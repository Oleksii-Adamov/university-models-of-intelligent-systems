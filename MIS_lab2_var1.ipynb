{
  "nbformat": 4,
  "nbformat_minor": 0,
  "metadata": {
    "colab": {
      "provenance": [],
      "authorship_tag": "ABX9TyPhMQxGbuGxstxgnWX/CA0w",
      "include_colab_link": true
    },
    "kernelspec": {
      "name": "python3",
      "display_name": "Python 3"
    },
    "language_info": {
      "name": "python"
    }
  },
  "cells": [
    {
      "cell_type": "markdown",
      "metadata": {
        "id": "view-in-github",
        "colab_type": "text"
      },
      "source": [
        "<a href=\"https://colab.research.google.com/github/Oleksii-Adamov/university-models-of-intelligent-systems/blob/main/MIS_lab2_var1.ipynb\" target=\"_parent\"><img src=\"https://colab.research.google.com/assets/colab-badge.svg\" alt=\"Open In Colab\"/></a>"
      ]
    },
    {
      "cell_type": "code",
      "source": [
        "import numpy as np\n",
        "import random"
      ],
      "metadata": {
        "id": "SNxz6qUWurlQ"
      },
      "execution_count": 1,
      "outputs": []
    },
    {
      "cell_type": "markdown",
      "source": [
        "# Завдання 1"
      ],
      "metadata": {
        "id": "mSkc7XKCRYfX"
      }
    },
    {
      "cell_type": "code",
      "source": [
        "def rand_list(size):\n",
        "    return [random.randint(0, 99) for i in range(0, size)]"
      ],
      "metadata": {
        "id": "5YeZ4XWLy5XA"
      },
      "execution_count": 13,
      "outputs": []
    },
    {
      "cell_type": "markdown",
      "source": [
        "## Вправа 1.\n",
        "Вводиться число n. Вивести масив розміру n×n, в\n",
        "якому по діагоналі йдуть числа від 1 до n, а інші числа дорівнюють 0."
      ],
      "metadata": {
        "id": "eF-w6Y_rRGYi"
      }
    },
    {
      "cell_type": "code",
      "source": [
        "def task1_numpy(n):\n",
        "    a = np.zeros((n, n))\n",
        "    values = np.arange(1, n+1)\n",
        "    np.fill_diagonal(a, values)\n",
        "    return a"
      ],
      "metadata": {
        "id": "gbSHaAnSunvn"
      },
      "execution_count": 2,
      "outputs": []
    },
    {
      "cell_type": "code",
      "source": [
        "def task1_loop(n):\n",
        "    a = np.zeros((n, n))\n",
        "    values = np.arange(1, n+1)\n",
        "    for i in range (0, n):\n",
        "        a[i, i] = values[i]\n",
        "    return a"
      ],
      "metadata": {
        "id": "H4gTDV0Qvu8k"
      },
      "execution_count": 3,
      "outputs": []
    },
    {
      "cell_type": "code",
      "source": [
        "def task1_loop_non_numpy(n):\n",
        "    return [[0 if i != j else i+1 for j in range (0, n)] for i in range(0, n)]"
      ],
      "metadata": {
        "id": "n0YBwMpQxKQ3"
      },
      "execution_count": 4,
      "outputs": []
    },
    {
      "cell_type": "code",
      "execution_count": 5,
      "metadata": {
        "colab": {
          "base_uri": "https://localhost:8080/"
        },
        "id": "i4Yk6Jovuh2F",
        "outputId": "0ca39d86-f6af-4ce9-d432-88b53de65c3c"
      },
      "outputs": [
        {
          "output_type": "stream",
          "name": "stdout",
          "text": [
            "10.4 µs ± 2.25 µs per loop (mean ± std. dev. of 7 runs, 100000 loops each)\n"
          ]
        }
      ],
      "source": [
        "%%timeit\n",
        "ans = task1_numpy(100)"
      ]
    },
    {
      "cell_type": "code",
      "source": [
        "ans = task1_numpy(5)\n",
        "print(ans)"
      ],
      "metadata": {
        "colab": {
          "base_uri": "https://localhost:8080/"
        },
        "id": "RO6_hv8myOyB",
        "outputId": "e609827d-6456-4494-8b05-eb816bb93c64"
      },
      "execution_count": 6,
      "outputs": [
        {
          "output_type": "stream",
          "name": "stdout",
          "text": [
            "[[1. 0. 0. 0. 0.]\n",
            " [0. 2. 0. 0. 0.]\n",
            " [0. 0. 3. 0. 0.]\n",
            " [0. 0. 0. 4. 0.]\n",
            " [0. 0. 0. 0. 5.]]\n"
          ]
        }
      ]
    },
    {
      "cell_type": "code",
      "source": [
        "%%timeit\n",
        "task1_loop(100)"
      ],
      "metadata": {
        "colab": {
          "base_uri": "https://localhost:8080/"
        },
        "id": "HMiRsq_ZweeH",
        "outputId": "1a21de36-d0b4-4405-8c78-7412a77ef3bc"
      },
      "execution_count": 7,
      "outputs": [
        {
          "output_type": "stream",
          "name": "stdout",
          "text": [
            "38 µs ± 1.24 µs per loop (mean ± std. dev. of 7 runs, 10000 loops each)\n"
          ]
        }
      ]
    },
    {
      "cell_type": "code",
      "source": [
        "ans = task1_loop(5)\n",
        "print(ans)"
      ],
      "metadata": {
        "colab": {
          "base_uri": "https://localhost:8080/"
        },
        "id": "q9NfdUz7yZCS",
        "outputId": "43c5b098-4e8c-48db-bd4f-c75788b33d1c"
      },
      "execution_count": 8,
      "outputs": [
        {
          "output_type": "stream",
          "name": "stdout",
          "text": [
            "[[1. 0. 0. 0. 0.]\n",
            " [0. 2. 0. 0. 0.]\n",
            " [0. 0. 3. 0. 0.]\n",
            " [0. 0. 0. 4. 0.]\n",
            " [0. 0. 0. 0. 5.]]\n"
          ]
        }
      ]
    },
    {
      "cell_type": "code",
      "source": [
        "%%timeit\n",
        "task1_loop_non_numpy(100)"
      ],
      "metadata": {
        "colab": {
          "base_uri": "https://localhost:8080/"
        },
        "id": "X5tmfRppxtLO",
        "outputId": "7cc2103c-f25e-4497-a96a-6b283b4d60e3"
      },
      "execution_count": 9,
      "outputs": [
        {
          "output_type": "stream",
          "name": "stdout",
          "text": [
            "581 µs ± 11.3 µs per loop (mean ± std. dev. of 7 runs, 1000 loops each)\n"
          ]
        }
      ]
    },
    {
      "cell_type": "code",
      "source": [
        "ans = task1_loop_non_numpy(5)\n",
        "print(ans)"
      ],
      "metadata": {
        "colab": {
          "base_uri": "https://localhost:8080/"
        },
        "id": "AkyUMrslydaO",
        "outputId": "112ed85f-cb84-479e-f74f-39dd8843b4ba"
      },
      "execution_count": 10,
      "outputs": [
        {
          "output_type": "stream",
          "name": "stdout",
          "text": [
            "[[1, 0, 0, 0, 0], [0, 2, 0, 0, 0], [0, 0, 3, 0, 0], [0, 0, 0, 4, 0], [0, 0, 0, 0, 5]]\n"
          ]
        }
      ]
    },
    {
      "cell_type": "markdown",
      "source": [
        "## Вправа 6.\n",
        "З клавіатури вводиться масив. Замінити всі ненульові\n",
        "елементи на –1."
      ],
      "metadata": {
        "id": "NKTNMvkvRLrf"
      }
    },
    {
      "cell_type": "code",
      "source": [
        "def task6_numpy(a):\n",
        "    arr = np.array(a)\n",
        "    arr[arr != 0] = -1\n",
        "    return arr"
      ],
      "metadata": {
        "id": "dawPpyrCQ_xM"
      },
      "execution_count": 11,
      "outputs": []
    },
    {
      "cell_type": "code",
      "source": [
        "def task6_no_numpy(a):\n",
        "    return [-1 if val != 0 else 0 for val in a]"
      ],
      "metadata": {
        "id": "5ubX9IIuR9Ff"
      },
      "execution_count": 12,
      "outputs": []
    },
    {
      "cell_type": "code",
      "source": [
        "%%timeit\n",
        "task6_numpy(rand_list(100))"
      ],
      "metadata": {
        "colab": {
          "base_uri": "https://localhost:8080/"
        },
        "id": "N5xmM9CrU0sy",
        "outputId": "eb6ed9ef-bc18-4403-c24f-7ef5dc3e5360"
      },
      "execution_count": 14,
      "outputs": [
        {
          "output_type": "stream",
          "name": "stdout",
          "text": [
            "114 µs ± 42.1 µs per loop (mean ± std. dev. of 7 runs, 10000 loops each)\n"
          ]
        }
      ]
    },
    {
      "cell_type": "code",
      "source": [
        "task6_numpy([3, 4, 0, 9, 7, 0, 6, 0, 4, 0, 3])"
      ],
      "metadata": {
        "colab": {
          "base_uri": "https://localhost:8080/"
        },
        "id": "O24dW2bwVtsm",
        "outputId": "93b15d9a-c377-4361-fc50-ece21507ba86"
      },
      "execution_count": 15,
      "outputs": [
        {
          "output_type": "execute_result",
          "data": {
            "text/plain": [
              "array([-1, -1,  0, -1, -1,  0, -1,  0, -1,  0, -1])"
            ]
          },
          "metadata": {},
          "execution_count": 15
        }
      ]
    },
    {
      "cell_type": "code",
      "source": [
        "%%timeit\n",
        "task6_no_numpy(rand_list(100))"
      ],
      "metadata": {
        "colab": {
          "base_uri": "https://localhost:8080/"
        },
        "id": "ySoHMVONVY-L",
        "outputId": "d5ce449f-b869-4b0d-b021-2493bc82f523"
      },
      "execution_count": 16,
      "outputs": [
        {
          "output_type": "stream",
          "name": "stdout",
          "text": [
            "85.9 µs ± 705 ns per loop (mean ± std. dev. of 7 runs, 10000 loops each)\n"
          ]
        }
      ]
    },
    {
      "cell_type": "code",
      "source": [
        "task6_no_numpy([3, 4, 0, 9, 7, 0, 6, 0, 4, 0, 3])"
      ],
      "metadata": {
        "colab": {
          "base_uri": "https://localhost:8080/"
        },
        "id": "2IUgflZaVxsV",
        "outputId": "55be046d-0178-4eed-a112-29ad006a2660"
      },
      "execution_count": 17,
      "outputs": [
        {
          "output_type": "execute_result",
          "data": {
            "text/plain": [
              "[-1, -1, 0, -1, -1, 0, -1, 0, -1, 0, -1]"
            ]
          },
          "metadata": {},
          "execution_count": 17
        }
      ]
    },
    {
      "cell_type": "markdown",
      "source": [
        "## Вправа 7.\n",
        "З клавіатури вводиться масив. Замінити всі нульові\n",
        "елементи на –1."
      ],
      "metadata": {
        "id": "j8FnT-LLWAF1"
      }
    },
    {
      "cell_type": "code",
      "source": [
        "def task7_numpy(a):\n",
        "    arr = np.array(a)\n",
        "    arr[arr == 0] = -1\n",
        "    return arr"
      ],
      "metadata": {
        "id": "2B1kr-CPWKLW"
      },
      "execution_count": 18,
      "outputs": []
    },
    {
      "cell_type": "code",
      "source": [
        "def task7_no_numpy(a):\n",
        "    return [-1 if val == 0 else val for val in a]"
      ],
      "metadata": {
        "id": "-TANnLRlWMwI"
      },
      "execution_count": 19,
      "outputs": []
    },
    {
      "cell_type": "code",
      "source": [
        "%%timeit\n",
        "task7_numpy(rand_list(100))"
      ],
      "metadata": {
        "colab": {
          "base_uri": "https://localhost:8080/"
        },
        "id": "E1eEkRZRWP_R",
        "outputId": "c45ac6b6-c893-4f0b-8c37-e38ae8651a75"
      },
      "execution_count": 20,
      "outputs": [
        {
          "output_type": "stream",
          "name": "stdout",
          "text": [
            "109 µs ± 26 µs per loop (mean ± std. dev. of 7 runs, 10000 loops each)\n"
          ]
        }
      ]
    },
    {
      "cell_type": "code",
      "source": [
        "task7_numpy([3, 4, 0, 6, 5, 0, 3, 0, 4])"
      ],
      "metadata": {
        "colab": {
          "base_uri": "https://localhost:8080/"
        },
        "id": "Lqt_Jg6RWRSG",
        "outputId": "2bf189b5-0371-4db1-bbf4-26e1c583b981"
      },
      "execution_count": 21,
      "outputs": [
        {
          "output_type": "execute_result",
          "data": {
            "text/plain": [
              "array([ 3,  4, -1,  6,  5, -1,  3, -1,  4])"
            ]
          },
          "metadata": {},
          "execution_count": 21
        }
      ]
    },
    {
      "cell_type": "code",
      "source": [
        "%%timeit\n",
        "task7_no_numpy(rand_list(100))"
      ],
      "metadata": {
        "colab": {
          "base_uri": "https://localhost:8080/"
        },
        "id": "PEIfKGl2WSx2",
        "outputId": "e647eef2-6aac-4afb-e0d7-f72f88820b9e"
      },
      "execution_count": 22,
      "outputs": [
        {
          "output_type": "stream",
          "name": "stdout",
          "text": [
            "87.7 µs ± 10.4 µs per loop (mean ± std. dev. of 7 runs, 10000 loops each)\n"
          ]
        }
      ]
    },
    {
      "cell_type": "code",
      "source": [
        "task7_no_numpy([3, 4, 0, 6, 5, 0, 3, 0, 4])"
      ],
      "metadata": {
        "colab": {
          "base_uri": "https://localhost:8080/"
        },
        "id": "0fUGHzThWURV",
        "outputId": "dbbf5dbd-1b61-48cf-d86d-b8f7914fe5ae"
      },
      "execution_count": 23,
      "outputs": [
        {
          "output_type": "execute_result",
          "data": {
            "text/plain": [
              "[3, 4, -1, 6, 5, -1, 3, -1, 4]"
            ]
          },
          "metadata": {},
          "execution_count": 23
        }
      ]
    },
    {
      "cell_type": "markdown",
      "source": [
        "## Вправа 9.\n",
        "Вводиться число n. Створити масив значень від n до 0."
      ],
      "metadata": {
        "id": "hAemxYVMXIZU"
      }
    },
    {
      "cell_type": "code",
      "source": [
        "def task9_numpy(n):\n",
        "    return np.arange(n, -1, -1)"
      ],
      "metadata": {
        "id": "5W3TTW1WXJSi"
      },
      "execution_count": 24,
      "outputs": []
    },
    {
      "cell_type": "code",
      "source": [
        "def task9_no_numpy(n):\n",
        "    return [i for i in range(n, -1, -1)]"
      ],
      "metadata": {
        "id": "m2p14qpPYXdd"
      },
      "execution_count": 25,
      "outputs": []
    },
    {
      "cell_type": "code",
      "source": [
        "%%timeit\n",
        "task9_numpy(100)"
      ],
      "metadata": {
        "colab": {
          "base_uri": "https://localhost:8080/"
        },
        "id": "u4yhdw6zYj2K",
        "outputId": "da7413bf-0a6b-41c4-9d4f-101f7035d48e"
      },
      "execution_count": 26,
      "outputs": [
        {
          "output_type": "stream",
          "name": "stdout",
          "text": [
            "966 ns ± 10.7 ns per loop (mean ± std. dev. of 7 runs, 1000000 loops each)\n"
          ]
        }
      ]
    },
    {
      "cell_type": "code",
      "source": [
        "task9_numpy(10)"
      ],
      "metadata": {
        "colab": {
          "base_uri": "https://localhost:8080/"
        },
        "id": "1GE01GNZYu1L",
        "outputId": "686bf156-2a31-43a4-83bd-7641e7353dc4"
      },
      "execution_count": 28,
      "outputs": [
        {
          "output_type": "execute_result",
          "data": {
            "text/plain": [
              "array([10,  9,  8,  7,  6,  5,  4,  3,  2,  1,  0])"
            ]
          },
          "metadata": {},
          "execution_count": 28
        }
      ]
    },
    {
      "cell_type": "code",
      "source": [
        "%%timeit\n",
        "task9_no_numpy(100)"
      ],
      "metadata": {
        "colab": {
          "base_uri": "https://localhost:8080/"
        },
        "id": "66mwYUG3Ys5j",
        "outputId": "54c4f8c3-f271-45d2-d280-72ac652fe077"
      },
      "execution_count": 27,
      "outputs": [
        {
          "output_type": "stream",
          "name": "stdout",
          "text": [
            "4.51 µs ± 1.36 µs per loop (mean ± std. dev. of 7 runs, 100000 loops each)\n"
          ]
        }
      ]
    },
    {
      "cell_type": "code",
      "source": [
        "task9_no_numpy(10)"
      ],
      "metadata": {
        "colab": {
          "base_uri": "https://localhost:8080/"
        },
        "id": "fGxrsQXIYxji",
        "outputId": "8bf6ecbb-3664-4aec-a131-eb1a7d4b6820"
      },
      "execution_count": 29,
      "outputs": [
        {
          "output_type": "execute_result",
          "data": {
            "text/plain": [
              "[10, 9, 8, 7, 6, 5, 4, 3, 2, 1, 0]"
            ]
          },
          "metadata": {},
          "execution_count": 29
        }
      ]
    },
    {
      "cell_type": "markdown",
      "source": [
        "## Вправа 10.\n",
        "Вводиться числа n i m. Створити масив випадкових\n",
        "значень n×m і обчислити мінімальне, максимальне значення, середнє та\n",
        "середньо квадратичне відхилення, округлене до 3 знаків після коми."
      ],
      "metadata": {
        "id": "aVR3ScuZY5UJ"
      }
    },
    {
      "cell_type": "code",
      "source": [
        "def task10_numpy(n, m):\n",
        "    a = np.random.rand(n,m)\n",
        "    #print(a)\n",
        "    return np.round(np.min(a), 3), np.round(np.max(a), 3), np.round(np.mean(a), 3), np.round(np.var(a, ddof=1), 3)"
      ],
      "metadata": {
        "id": "CgvG9srEZL70"
      },
      "execution_count": 30,
      "outputs": []
    },
    {
      "cell_type": "code",
      "source": [
        "def task10_no_numpy(n, m):\n",
        "    a = [[random.random() for j in range (0, m)] for i in range(0, n)]\n",
        "    # print(a)\n",
        "    size = n * m\n",
        "    sum = 0\n",
        "    min_val = a[0][0]\n",
        "    max_val = a[0][0]\n",
        "    for row in a:\n",
        "        for val in row:\n",
        "            sum += val\n",
        "            min_val = min(min_val, val)\n",
        "            max_val = max(max_val, val)\n",
        "    mean_val = sum / size\n",
        "    var_val = 0\n",
        "    for row in a:\n",
        "        for val in row:\n",
        "            var_val += (val - mean_val) ** 2\n",
        "    var_val = var_val / (size - 1)\n",
        "    return round(min_val, 3), round(max_val, 3), round(mean_val, 3), round(var_val, 3)"
      ],
      "metadata": {
        "id": "RWaHIAghblZA"
      },
      "execution_count": 31,
      "outputs": []
    },
    {
      "cell_type": "code",
      "source": [
        "%%timeit\n",
        "task10_numpy(100, 100)"
      ],
      "metadata": {
        "colab": {
          "base_uri": "https://localhost:8080/"
        },
        "id": "9dAyaWx0aa-0",
        "outputId": "3167d3bc-51d8-4d05-893b-1ba1dfc5354a"
      },
      "execution_count": 36,
      "outputs": [
        {
          "output_type": "stream",
          "name": "stdout",
          "text": [
            "377 µs ± 89.3 µs per loop (mean ± std. dev. of 7 runs, 1000 loops each)\n"
          ]
        }
      ]
    },
    {
      "cell_type": "code",
      "source": [
        "task10_numpy(3, 2)"
      ],
      "metadata": {
        "colab": {
          "base_uri": "https://localhost:8080/"
        },
        "id": "ilrI4KNjzi-N",
        "outputId": "3a76d5d3-455e-414e-8c54-13e1bc567e79"
      },
      "execution_count": 32,
      "outputs": [
        {
          "output_type": "execute_result",
          "data": {
            "text/plain": [
              "(0.081, 0.973, 0.585, 0.146)"
            ]
          },
          "metadata": {},
          "execution_count": 32
        }
      ]
    },
    {
      "cell_type": "code",
      "source": [
        "%%timeit\n",
        "task10_no_numpy(100, 100)"
      ],
      "metadata": {
        "colab": {
          "base_uri": "https://localhost:8080/"
        },
        "id": "CpL1e6pgek2c",
        "outputId": "25220415-7f8e-4687-808a-9e974cac372e"
      },
      "execution_count": 37,
      "outputs": [
        {
          "output_type": "stream",
          "name": "stdout",
          "text": [
            "5.32 ms ± 94 µs per loop (mean ± std. dev. of 7 runs, 100 loops each)\n"
          ]
        }
      ]
    },
    {
      "cell_type": "code",
      "source": [
        "task10_numpy(3, 2)"
      ],
      "metadata": {
        "colab": {
          "base_uri": "https://localhost:8080/"
        },
        "id": "rSscOX_Gzl8E",
        "outputId": "34cc9e8e-8c2d-441a-da9e-e5783fe631bb"
      },
      "execution_count": 33,
      "outputs": [
        {
          "output_type": "execute_result",
          "data": {
            "text/plain": [
              "(0.108, 0.965, 0.557, 0.113)"
            ]
          },
          "metadata": {},
          "execution_count": 33
        }
      ]
    },
    {
      "cell_type": "markdown",
      "source": [
        "## Вправа 11.\n",
        "Створити масив одиниць розміром n×n та додати до\n",
        "нього «рамку», що утворюється з 0."
      ],
      "metadata": {
        "id": "P49cB7lBhBFd"
      }
    },
    {
      "cell_type": "code",
      "source": [
        "def task11_numpy(n):\n",
        "    a = np.full((n,n), 1)\n",
        "    return np.pad(a, 1)"
      ],
      "metadata": {
        "id": "Qvg6eq9ppaxK"
      },
      "execution_count": null,
      "outputs": []
    },
    {
      "cell_type": "code",
      "source": [
        "def task11_no_numpy(n):\n",
        "    a = [[1 for j in range (0, n)] for i in range(0, n)]\n",
        "    padded = [[a[i][j-1] if j != 0 and j != n + 1 else 0 for j in range (0, n+2)] for i in range(0, n)]\n",
        "    padded = [[0] * (n+2)] + padded + [[0] * (n+2)]\n",
        "    return padded"
      ],
      "metadata": {
        "id": "dYv5XtzssxHl"
      },
      "execution_count": null,
      "outputs": []
    },
    {
      "cell_type": "code",
      "source": [
        "%%timeit\n",
        "task11_numpy(100)"
      ],
      "metadata": {
        "colab": {
          "base_uri": "https://localhost:8080/"
        },
        "id": "40NuviTU2rX5",
        "outputId": "84a2d52b-7ac3-470b-cb5c-ce45065f804e"
      },
      "execution_count": null,
      "outputs": [
        {
          "output_type": "stream",
          "name": "stdout",
          "text": [
            "54.8 µs ± 12.5 µs per loop (mean ± std. dev. of 7 runs, 10000 loops each)\n"
          ]
        }
      ]
    },
    {
      "cell_type": "code",
      "source": [
        "task11_numpy(4)"
      ],
      "metadata": {
        "colab": {
          "base_uri": "https://localhost:8080/"
        },
        "id": "iiXs8QZastPT",
        "outputId": "5e2ec112-a258-43dd-ea4a-8dd78e6e0e2b"
      },
      "execution_count": null,
      "outputs": [
        {
          "output_type": "execute_result",
          "data": {
            "text/plain": [
              "array([[0, 0, 0, 0, 0, 0],\n",
              "       [0, 1, 1, 1, 1, 0],\n",
              "       [0, 1, 1, 1, 1, 0],\n",
              "       [0, 1, 1, 1, 1, 0],\n",
              "       [0, 1, 1, 1, 1, 0],\n",
              "       [0, 0, 0, 0, 0, 0]])"
            ]
          },
          "metadata": {},
          "execution_count": 100
        }
      ]
    },
    {
      "cell_type": "code",
      "source": [
        "%%timeit\n",
        "task11_no_numpy(100)"
      ],
      "metadata": {
        "colab": {
          "base_uri": "https://localhost:8080/"
        },
        "id": "cu-PXrVU2uru",
        "outputId": "9c6afd84-23cc-409c-f91d-e72c6500e365"
      },
      "execution_count": null,
      "outputs": [
        {
          "output_type": "stream",
          "name": "stdout",
          "text": [
            "2.19 ms ± 399 µs per loop (mean ± std. dev. of 7 runs, 1000 loops each)\n"
          ]
        }
      ]
    },
    {
      "cell_type": "code",
      "source": [
        "task11_no_numpy(4)"
      ],
      "metadata": {
        "colab": {
          "base_uri": "https://localhost:8080/"
        },
        "id": "eGJSXjeOtQeq",
        "outputId": "4670dda7-4043-4818-a39a-2ada36d8ff98"
      },
      "execution_count": null,
      "outputs": [
        {
          "output_type": "execute_result",
          "data": {
            "text/plain": [
              "[[0, 0, 0, 0, 0, 0],\n",
              " [0, 1, 1, 1, 1, 0],\n",
              " [0, 1, 1, 1, 1, 0],\n",
              " [0, 1, 1, 1, 1, 0],\n",
              " [0, 1, 1, 1, 1, 0],\n",
              " [0, 0, 0, 0, 0, 0]]"
            ]
          },
          "metadata": {},
          "execution_count": 103
        }
      ]
    },
    {
      "cell_type": "markdown",
      "source": [
        "## Вправа 15.\n",
        "Заповнити парні стовпчикі матриці розміром n×n одиницями, а непарні – нулями."
      ],
      "metadata": {
        "id": "u6pdUxqjjty8"
      }
    },
    {
      "cell_type": "code",
      "source": [
        "def task15_numpy(n):\n",
        "    return np.fromfunction(lambda i, j: j % 2, (n, n))"
      ],
      "metadata": {
        "id": "NEWGDytNj2f7"
      },
      "execution_count": null,
      "outputs": []
    },
    {
      "cell_type": "code",
      "source": [
        "def task15_no_numpy(n):\n",
        "    return [[j % 2 for j in range (0, n)] for i in range(0, n)]"
      ],
      "metadata": {
        "id": "JwUefu6Yj2yk"
      },
      "execution_count": null,
      "outputs": []
    },
    {
      "cell_type": "code",
      "source": [
        "%%timeit\n",
        "task15_numpy(100)"
      ],
      "metadata": {
        "colab": {
          "base_uri": "https://localhost:8080/",
          "height": 391
        },
        "id": "m4ne4zexnv4C",
        "outputId": "9462bbbc-8ec3-4891-8e11-cd35dc208584"
      },
      "execution_count": null,
      "outputs": [
        {
          "output_type": "error",
          "ename": "NameError",
          "evalue": "name 'task15_numpy' is not defined",
          "traceback": [
            "\u001b[0;31m---------------------------------------------------------------------------\u001b[0m",
            "\u001b[0;31mNameError\u001b[0m                                 Traceback (most recent call last)",
            "\u001b[0;32m<ipython-input-12-9d99eeb09c1f>\u001b[0m in \u001b[0;36m<cell line: 1>\u001b[0;34m()\u001b[0m\n\u001b[0;32m----> 1\u001b[0;31m \u001b[0mget_ipython\u001b[0m\u001b[0;34m(\u001b[0m\u001b[0;34m)\u001b[0m\u001b[0;34m.\u001b[0m\u001b[0mrun_cell_magic\u001b[0m\u001b[0;34m(\u001b[0m\u001b[0;34m'timeit'\u001b[0m\u001b[0;34m,\u001b[0m \u001b[0;34m''\u001b[0m\u001b[0;34m,\u001b[0m \u001b[0;34m'task15_numpy(100)\\n'\u001b[0m\u001b[0;34m)\u001b[0m\u001b[0;34m\u001b[0m\u001b[0;34m\u001b[0m\u001b[0m\n\u001b[0m",
            "\u001b[0;32m/usr/local/lib/python3.10/dist-packages/google/colab/_shell.py\u001b[0m in \u001b[0;36mrun_cell_magic\u001b[0;34m(self, magic_name, line, cell)\u001b[0m\n\u001b[1;32m    332\u001b[0m     \u001b[0;32mif\u001b[0m \u001b[0mline\u001b[0m \u001b[0;32mand\u001b[0m \u001b[0;32mnot\u001b[0m \u001b[0mcell\u001b[0m\u001b[0;34m:\u001b[0m\u001b[0;34m\u001b[0m\u001b[0;34m\u001b[0m\u001b[0m\n\u001b[1;32m    333\u001b[0m       \u001b[0mcell\u001b[0m \u001b[0;34m=\u001b[0m \u001b[0;34m' '\u001b[0m\u001b[0;34m\u001b[0m\u001b[0;34m\u001b[0m\u001b[0m\n\u001b[0;32m--> 334\u001b[0;31m     \u001b[0;32mreturn\u001b[0m \u001b[0msuper\u001b[0m\u001b[0;34m(\u001b[0m\u001b[0;34m)\u001b[0m\u001b[0;34m.\u001b[0m\u001b[0mrun_cell_magic\u001b[0m\u001b[0;34m(\u001b[0m\u001b[0mmagic_name\u001b[0m\u001b[0;34m,\u001b[0m \u001b[0mline\u001b[0m\u001b[0;34m,\u001b[0m \u001b[0mcell\u001b[0m\u001b[0;34m)\u001b[0m\u001b[0;34m\u001b[0m\u001b[0;34m\u001b[0m\u001b[0m\n\u001b[0m\u001b[1;32m    335\u001b[0m \u001b[0;34m\u001b[0m\u001b[0m\n\u001b[1;32m    336\u001b[0m \u001b[0;34m\u001b[0m\u001b[0m\n",
            "\u001b[0;32m/usr/local/lib/python3.10/dist-packages/IPython/core/interactiveshell.py\u001b[0m in \u001b[0;36mrun_cell_magic\u001b[0;34m(self, magic_name, line, cell)\u001b[0m\n\u001b[1;32m   2471\u001b[0m             \u001b[0;32mwith\u001b[0m \u001b[0mself\u001b[0m\u001b[0;34m.\u001b[0m\u001b[0mbuiltin_trap\u001b[0m\u001b[0;34m:\u001b[0m\u001b[0;34m\u001b[0m\u001b[0;34m\u001b[0m\u001b[0m\n\u001b[1;32m   2472\u001b[0m                 \u001b[0margs\u001b[0m \u001b[0;34m=\u001b[0m \u001b[0;34m(\u001b[0m\u001b[0mmagic_arg_s\u001b[0m\u001b[0;34m,\u001b[0m \u001b[0mcell\u001b[0m\u001b[0;34m)\u001b[0m\u001b[0;34m\u001b[0m\u001b[0;34m\u001b[0m\u001b[0m\n\u001b[0;32m-> 2473\u001b[0;31m                 \u001b[0mresult\u001b[0m \u001b[0;34m=\u001b[0m \u001b[0mfn\u001b[0m\u001b[0;34m(\u001b[0m\u001b[0;34m*\u001b[0m\u001b[0margs\u001b[0m\u001b[0;34m,\u001b[0m \u001b[0;34m**\u001b[0m\u001b[0mkwargs\u001b[0m\u001b[0;34m)\u001b[0m\u001b[0;34m\u001b[0m\u001b[0;34m\u001b[0m\u001b[0m\n\u001b[0m\u001b[1;32m   2474\u001b[0m             \u001b[0;32mreturn\u001b[0m \u001b[0mresult\u001b[0m\u001b[0;34m\u001b[0m\u001b[0;34m\u001b[0m\u001b[0m\n\u001b[1;32m   2475\u001b[0m \u001b[0;34m\u001b[0m\u001b[0m\n",
            "\u001b[0;32m<decorator-gen-53>\u001b[0m in \u001b[0;36mtimeit\u001b[0;34m(self, line, cell, local_ns)\u001b[0m\n",
            "\u001b[0;32m/usr/local/lib/python3.10/dist-packages/IPython/core/magic.py\u001b[0m in \u001b[0;36m<lambda>\u001b[0;34m(f, *a, **k)\u001b[0m\n\u001b[1;32m    185\u001b[0m     \u001b[0;31m# but it's overkill for just that one bit of state.\u001b[0m\u001b[0;34m\u001b[0m\u001b[0;34m\u001b[0m\u001b[0m\n\u001b[1;32m    186\u001b[0m     \u001b[0;32mdef\u001b[0m \u001b[0mmagic_deco\u001b[0m\u001b[0;34m(\u001b[0m\u001b[0marg\u001b[0m\u001b[0;34m)\u001b[0m\u001b[0;34m:\u001b[0m\u001b[0;34m\u001b[0m\u001b[0;34m\u001b[0m\u001b[0m\n\u001b[0;32m--> 187\u001b[0;31m         \u001b[0mcall\u001b[0m \u001b[0;34m=\u001b[0m \u001b[0;32mlambda\u001b[0m \u001b[0mf\u001b[0m\u001b[0;34m,\u001b[0m \u001b[0;34m*\u001b[0m\u001b[0ma\u001b[0m\u001b[0;34m,\u001b[0m \u001b[0;34m**\u001b[0m\u001b[0mk\u001b[0m\u001b[0;34m:\u001b[0m \u001b[0mf\u001b[0m\u001b[0;34m(\u001b[0m\u001b[0;34m*\u001b[0m\u001b[0ma\u001b[0m\u001b[0;34m,\u001b[0m \u001b[0;34m**\u001b[0m\u001b[0mk\u001b[0m\u001b[0;34m)\u001b[0m\u001b[0;34m\u001b[0m\u001b[0;34m\u001b[0m\u001b[0m\n\u001b[0m\u001b[1;32m    188\u001b[0m \u001b[0;34m\u001b[0m\u001b[0m\n\u001b[1;32m    189\u001b[0m         \u001b[0;32mif\u001b[0m \u001b[0mcallable\u001b[0m\u001b[0;34m(\u001b[0m\u001b[0marg\u001b[0m\u001b[0;34m)\u001b[0m\u001b[0;34m:\u001b[0m\u001b[0;34m\u001b[0m\u001b[0;34m\u001b[0m\u001b[0m\n",
            "\u001b[0;32m/usr/local/lib/python3.10/dist-packages/IPython/core/magics/execution.py\u001b[0m in \u001b[0;36mtimeit\u001b[0;34m(self, line, cell, local_ns)\u001b[0m\n\u001b[1;32m   1178\u001b[0m             \u001b[0;32mfor\u001b[0m \u001b[0mindex\u001b[0m \u001b[0;32min\u001b[0m \u001b[0mrange\u001b[0m\u001b[0;34m(\u001b[0m\u001b[0;36m0\u001b[0m\u001b[0;34m,\u001b[0m \u001b[0;36m10\u001b[0m\u001b[0;34m)\u001b[0m\u001b[0;34m:\u001b[0m\u001b[0;34m\u001b[0m\u001b[0;34m\u001b[0m\u001b[0m\n\u001b[1;32m   1179\u001b[0m                 \u001b[0mnumber\u001b[0m \u001b[0;34m=\u001b[0m \u001b[0;36m10\u001b[0m \u001b[0;34m**\u001b[0m \u001b[0mindex\u001b[0m\u001b[0;34m\u001b[0m\u001b[0;34m\u001b[0m\u001b[0m\n\u001b[0;32m-> 1180\u001b[0;31m                 \u001b[0mtime_number\u001b[0m \u001b[0;34m=\u001b[0m \u001b[0mtimer\u001b[0m\u001b[0;34m.\u001b[0m\u001b[0mtimeit\u001b[0m\u001b[0;34m(\u001b[0m\u001b[0mnumber\u001b[0m\u001b[0;34m)\u001b[0m\u001b[0;34m\u001b[0m\u001b[0;34m\u001b[0m\u001b[0m\n\u001b[0m\u001b[1;32m   1181\u001b[0m                 \u001b[0;32mif\u001b[0m \u001b[0mtime_number\u001b[0m \u001b[0;34m>=\u001b[0m \u001b[0;36m0.2\u001b[0m\u001b[0;34m:\u001b[0m\u001b[0;34m\u001b[0m\u001b[0;34m\u001b[0m\u001b[0m\n\u001b[1;32m   1182\u001b[0m                     \u001b[0;32mbreak\u001b[0m\u001b[0;34m\u001b[0m\u001b[0;34m\u001b[0m\u001b[0m\n",
            "\u001b[0;32m/usr/local/lib/python3.10/dist-packages/IPython/core/magics/execution.py\u001b[0m in \u001b[0;36mtimeit\u001b[0;34m(self, number)\u001b[0m\n\u001b[1;32m    167\u001b[0m         \u001b[0mgc\u001b[0m\u001b[0;34m.\u001b[0m\u001b[0mdisable\u001b[0m\u001b[0;34m(\u001b[0m\u001b[0;34m)\u001b[0m\u001b[0;34m\u001b[0m\u001b[0;34m\u001b[0m\u001b[0m\n\u001b[1;32m    168\u001b[0m         \u001b[0;32mtry\u001b[0m\u001b[0;34m:\u001b[0m\u001b[0;34m\u001b[0m\u001b[0;34m\u001b[0m\u001b[0m\n\u001b[0;32m--> 169\u001b[0;31m             \u001b[0mtiming\u001b[0m \u001b[0;34m=\u001b[0m \u001b[0mself\u001b[0m\u001b[0;34m.\u001b[0m\u001b[0minner\u001b[0m\u001b[0;34m(\u001b[0m\u001b[0mit\u001b[0m\u001b[0;34m,\u001b[0m \u001b[0mself\u001b[0m\u001b[0;34m.\u001b[0m\u001b[0mtimer\u001b[0m\u001b[0;34m)\u001b[0m\u001b[0;34m\u001b[0m\u001b[0;34m\u001b[0m\u001b[0m\n\u001b[0m\u001b[1;32m    170\u001b[0m         \u001b[0;32mfinally\u001b[0m\u001b[0;34m:\u001b[0m\u001b[0;34m\u001b[0m\u001b[0;34m\u001b[0m\u001b[0m\n\u001b[1;32m    171\u001b[0m             \u001b[0;32mif\u001b[0m \u001b[0mgcold\u001b[0m\u001b[0;34m:\u001b[0m\u001b[0;34m\u001b[0m\u001b[0;34m\u001b[0m\u001b[0m\n",
            "\u001b[0;32m<magic-timeit>\u001b[0m in \u001b[0;36minner\u001b[0;34m(_it, _timer)\u001b[0m\n",
            "\u001b[0;31mNameError\u001b[0m: name 'task15_numpy' is not defined"
          ]
        }
      ]
    },
    {
      "cell_type": "code",
      "source": [
        "task15_numpy(5)"
      ],
      "metadata": {
        "colab": {
          "base_uri": "https://localhost:8080/"
        },
        "id": "jqnjzRSwlTJm",
        "outputId": "c995f477-8aa8-418d-9bc4-bc004b13fc84"
      },
      "execution_count": null,
      "outputs": [
        {
          "output_type": "execute_result",
          "data": {
            "text/plain": [
              "array([[0., 1., 0., 1., 0.],\n",
              "       [0., 1., 0., 1., 0.],\n",
              "       [0., 1., 0., 1., 0.],\n",
              "       [0., 1., 0., 1., 0.],\n",
              "       [0., 1., 0., 1., 0.]])"
            ]
          },
          "metadata": {},
          "execution_count": 38
        }
      ]
    },
    {
      "cell_type": "code",
      "source": [
        "%%timeit\n",
        "task15_no_numpy(100)"
      ],
      "metadata": {
        "colab": {
          "base_uri": "https://localhost:8080/"
        },
        "id": "7Qfyxb0_oBa9",
        "outputId": "96bfa130-cd9f-4bd3-a249-aa154a302c59"
      },
      "execution_count": null,
      "outputs": [
        {
          "output_type": "stream",
          "name": "stdout",
          "text": [
            "578 µs ± 7.87 µs per loop (mean ± std. dev. of 7 runs, 1000 loops each)\n"
          ]
        }
      ]
    },
    {
      "cell_type": "code",
      "source": [
        "task15_no_numpy(5)"
      ],
      "metadata": {
        "colab": {
          "base_uri": "https://localhost:8080/"
        },
        "id": "H6-X_-hnkJbP",
        "outputId": "497e1cce-c77e-4ca8-a878-81a08e9dbd1a"
      },
      "execution_count": null,
      "outputs": [
        {
          "output_type": "execute_result",
          "data": {
            "text/plain": [
              "[[0, 1, 0, 1, 0],\n",
              " [0, 1, 0, 1, 0],\n",
              " [0, 1, 0, 1, 0],\n",
              " [0, 1, 0, 1, 0],\n",
              " [0, 1, 0, 1, 0]]"
            ]
          },
          "metadata": {},
          "execution_count": 40
        }
      ]
    },
    {
      "cell_type": "markdown",
      "source": [
        "# Вправа 17.\n",
        "Заповнити вектор значеннями від 0 до n. Замінити\n",
        "знаки для всіх значень, що менші за $n/2$ та більші за $3n/4$ на\n",
        "протилежні."
      ],
      "metadata": {
        "id": "UHe5VVIroXV-"
      }
    },
    {
      "cell_type": "code",
      "source": [
        "def task17_numpy(n):\n",
        "    a = np.arange(n)\n",
        "    cond = np.logical_or(a < n / 2, a > 3*n/4)\n",
        "    return np.where(cond, -a, a)"
      ],
      "metadata": {
        "id": "IdL8lTMwocKA"
      },
      "execution_count": null,
      "outputs": []
    },
    {
      "cell_type": "code",
      "source": [
        "def task17_no_numpy(n):\n",
        "    a = [i for i in range(0, n)]\n",
        "    return [-val if val < n / 2 or val > 3*n/4 else val for val in a]"
      ],
      "metadata": {
        "id": "7QgCEaXaPRMJ"
      },
      "execution_count": null,
      "outputs": []
    },
    {
      "cell_type": "code",
      "source": [
        "%%timeit\n",
        "task17_numpy(100)"
      ],
      "metadata": {
        "colab": {
          "base_uri": "https://localhost:8080/"
        },
        "id": "oMTcDil2QDs_",
        "outputId": "27f21114-cfec-48ed-d20a-1ffa6877041f"
      },
      "execution_count": null,
      "outputs": [
        {
          "output_type": "stream",
          "name": "stdout",
          "text": [
            "7.68 µs ± 166 ns per loop (mean ± std. dev. of 7 runs, 100000 loops each)\n"
          ]
        }
      ]
    },
    {
      "cell_type": "code",
      "source": [
        "task17_numpy(10)"
      ],
      "metadata": {
        "colab": {
          "base_uri": "https://localhost:8080/"
        },
        "id": "dY-RJf-PpIDW",
        "outputId": "9994bc20-6f54-41d0-acb8-10a2ebab5026"
      },
      "execution_count": null,
      "outputs": [
        {
          "output_type": "execute_result",
          "data": {
            "text/plain": [
              "array([ 0, -1, -2, -3, -4,  5,  6,  7, -8, -9])"
            ]
          },
          "metadata": {},
          "execution_count": 60
        }
      ]
    },
    {
      "cell_type": "code",
      "source": [
        "%%timeit\n",
        "task17_no_numpy(100)"
      ],
      "metadata": {
        "colab": {
          "base_uri": "https://localhost:8080/"
        },
        "id": "UaGdyv3oQMoM",
        "outputId": "e359993e-019c-415a-8939-61fce9060c26"
      },
      "execution_count": null,
      "outputs": [
        {
          "output_type": "stream",
          "name": "stdout",
          "text": [
            "21.4 µs ± 681 ns per loop (mean ± std. dev. of 7 runs, 10000 loops each)\n"
          ]
        }
      ]
    },
    {
      "cell_type": "code",
      "source": [
        "task17_no_numpy(10)"
      ],
      "metadata": {
        "colab": {
          "base_uri": "https://localhost:8080/"
        },
        "id": "r70c39k1PzKH",
        "outputId": "dc8c9f29-0098-45cb-b5ec-25d9c768b4a5"
      },
      "execution_count": null,
      "outputs": [
        {
          "output_type": "execute_result",
          "data": {
            "text/plain": [
              "[0, -1, -2, -3, -4, 5, 6, 7, -8, -9]"
            ]
          },
          "metadata": {},
          "execution_count": 11
        }
      ]
    },
    {
      "cell_type": "markdown",
      "source": [
        "# Вправа 18.\n",
        "Згенерувати вектор з n випадкових чисел в діапазоні\n",
        "від 0 до 99. Визначити кількість унікальних чисел в послідовності."
      ],
      "metadata": {
        "id": "Pmq_SYTprfDS"
      }
    },
    {
      "cell_type": "code",
      "source": [
        "def task18_numpy(n):\n",
        "    a = np.random.randint(0, 100, n)\n",
        "    return np.unique(a).shape[0]"
      ],
      "metadata": {
        "id": "E1gpdlyprkX5"
      },
      "execution_count": null,
      "outputs": []
    },
    {
      "cell_type": "code",
      "source": [
        "def task18_no_numpy(n):\n",
        "    a = [random.randint(0, 99) for i in range(0, n)]\n",
        "    print(a)\n",
        "    d = {}\n",
        "    for val in a:\n",
        "        d[val] = True\n",
        "    return len(d)"
      ],
      "metadata": {
        "id": "IusyZBW8sNbm"
      },
      "execution_count": null,
      "outputs": []
    },
    {
      "cell_type": "code",
      "source": [
        "%%timeit\n",
        "task18_numpy(100)"
      ],
      "metadata": {
        "id": "81Rs8wLIxa9k"
      },
      "execution_count": null,
      "outputs": []
    },
    {
      "cell_type": "code",
      "source": [
        "task18_numpy(10)"
      ],
      "metadata": {
        "colab": {
          "base_uri": "https://localhost:8080/"
        },
        "id": "d8YBXbXqsFmE",
        "outputId": "07d4d7be-08d1-4ea1-b90b-494dfad3ae50"
      },
      "execution_count": null,
      "outputs": [
        {
          "output_type": "stream",
          "name": "stdout",
          "text": [
            "[49 80 90 50 13 62 94 68 27 27]\n"
          ]
        },
        {
          "output_type": "execute_result",
          "data": {
            "text/plain": [
              "9"
            ]
          },
          "metadata": {},
          "execution_count": 62
        }
      ]
    },
    {
      "cell_type": "code",
      "source": [
        "%%timeit\n",
        "task18_no_numpy(100)"
      ],
      "metadata": {
        "id": "_T0s3egqxbpx"
      },
      "execution_count": null,
      "outputs": []
    },
    {
      "cell_type": "code",
      "source": [
        "task18_no_numpy(10)"
      ],
      "metadata": {
        "colab": {
          "base_uri": "https://localhost:8080/"
        },
        "id": "dUeqsiLiOTfL",
        "outputId": "aa1e5c8e-13d6-4bbe-f96b-fa04407cab97"
      },
      "execution_count": null,
      "outputs": [
        {
          "output_type": "stream",
          "name": "stdout",
          "text": [
            "[34, 62, 79, 77, 62, 46, 57, 87, 77, 33]\n"
          ]
        },
        {
          "output_type": "execute_result",
          "data": {
            "text/plain": [
              "8"
            ]
          },
          "metadata": {},
          "execution_count": 6
        }
      ]
    },
    {
      "cell_type": "markdown",
      "source": [
        "# Завдання 2"
      ],
      "metadata": {
        "id": "RF9bPlC66TtK"
      }
    },
    {
      "cell_type": "markdown",
      "source": [
        "Розв’язати систему алгебраїчних рівнянь за допомогою\n",
        "формул Крамера і виконати перевірку за допомогою:\n",
        "\n",
        "    a. матричного множення;\n",
        "    b. оберненої матриці;\n",
        "    c. функції numpy.linalg.solve().\n",
        "Порівняти всі рішення за допомогою функції numpy.allclose().\n",
        "\\begin{align}\n",
        "\\left\\{\n",
        "\\begin{array}{l}\n",
        "x_1+x_2+2x_3+3x_4=1 \\\\\n",
        "3x_1-x_2-x_3-2x_4=-4 \\\\\n",
        "2x_1-3x_2-x_3-x_4=-6 \\\\\n",
        "x_1+2x_2+3x_3-x_4=-4\n",
        "\\end{array}\n",
        "\\right.\n",
        "\\end{align}"
      ],
      "metadata": {
        "id": "CBKVave56deE"
      }
    },
    {
      "cell_type": "code",
      "source": [
        "def kramer_lin_eq_solve(A_input, b):\n",
        "    A = np.copy(A_input)\n",
        "    det_A = np.linalg.det(A)\n",
        "    if abs(det_A) < 1e-9:\n",
        "        return None\n",
        "    n = A.shape[0]\n",
        "    solution = np.empty(n)\n",
        "    for i in range(0, n):\n",
        "        original_column = np.copy(A[:, i])\n",
        "        A[:, i] = b\n",
        "        det_A_i = np.linalg.det(A)\n",
        "        solution[i] = det_A_i / det_A\n",
        "        A[:, i] = original_column\n",
        "    return solution"
      ],
      "metadata": {
        "id": "wW6s05519nXD"
      },
      "execution_count": 47,
      "outputs": []
    },
    {
      "cell_type": "code",
      "source": [
        "A = np.array([[1, 1, 2, 3], [3, -1, -1, -2], [2, -3, -1, -1], [1, 2, 3, -1]])\n",
        "b = np.array([1, -4, -6, -4])"
      ],
      "metadata": {
        "id": "xWQV4aVE_odV"
      },
      "execution_count": 48,
      "outputs": []
    },
    {
      "cell_type": "code",
      "source": [
        "kramer_sol = kramer_lin_eq_solve(A, b)\n",
        "kramer_sol"
      ],
      "metadata": {
        "colab": {
          "base_uri": "https://localhost:8080/"
        },
        "id": "RChD8100AHfC",
        "outputId": "ffd6f1b8-fae3-4cc7-bc0d-5d450086ea8d"
      },
      "execution_count": 50,
      "outputs": [
        {
          "output_type": "execute_result",
          "data": {
            "text/plain": [
              "array([-0.55555556,  1.88888889, -2.        ,  1.22222222])"
            ]
          },
          "metadata": {},
          "execution_count": 50
        }
      ]
    },
    {
      "cell_type": "code",
      "source": [
        "b_from_sol = np.dot(A, kramer_sol)\n",
        "print(b_from_sol)\n",
        "np.allclose(b_from_sol, b)"
      ],
      "metadata": {
        "colab": {
          "base_uri": "https://localhost:8080/"
        },
        "id": "QMGtYt8VBG10",
        "outputId": "3b0aa49b-c085-4d49-82db-49765b008d2d"
      },
      "execution_count": 51,
      "outputs": [
        {
          "output_type": "stream",
          "name": "stdout",
          "text": [
            "[ 1. -4. -6. -4.]\n"
          ]
        },
        {
          "output_type": "execute_result",
          "data": {
            "text/plain": [
              "True"
            ]
          },
          "metadata": {},
          "execution_count": 51
        }
      ]
    },
    {
      "cell_type": "code",
      "source": [
        "sol_from_inv = np.linalg.inv(A) @ b\n",
        "print(sol_from_inv)\n",
        "np.allclose(kramer_sol, sol_from_inv)"
      ],
      "metadata": {
        "colab": {
          "base_uri": "https://localhost:8080/"
        },
        "id": "h-0Tv3ZVBckO",
        "outputId": "a4f9786c-f0cd-4fe9-c3e0-7d89fe269a14"
      },
      "execution_count": 52,
      "outputs": [
        {
          "output_type": "stream",
          "name": "stdout",
          "text": [
            "[-0.55555556  1.88888889 -2.          1.22222222]\n"
          ]
        },
        {
          "output_type": "execute_result",
          "data": {
            "text/plain": [
              "True"
            ]
          },
          "metadata": {},
          "execution_count": 52
        }
      ]
    },
    {
      "cell_type": "code",
      "source": [
        "numpy_sol = np.linalg.solve(A, b)\n",
        "print(numpy_sol)\n",
        "np.allclose(kramer_sol, numpy_sol)"
      ],
      "metadata": {
        "colab": {
          "base_uri": "https://localhost:8080/"
        },
        "id": "sRTVJaiTAId3",
        "outputId": "4c59bf7d-993a-438d-ad7a-d13138230dfa"
      },
      "execution_count": 53,
      "outputs": [
        {
          "output_type": "stream",
          "name": "stdout",
          "text": [
            "[-0.55555556  1.88888889 -2.          1.22222222]\n"
          ]
        },
        {
          "output_type": "execute_result",
          "data": {
            "text/plain": [
              "True"
            ]
          },
          "metadata": {},
          "execution_count": 53
        }
      ]
    },
    {
      "cell_type": "markdown",
      "source": [
        "# Завдання 3"
      ],
      "metadata": {
        "id": "g1QT7xyWCK6u"
      }
    },
    {
      "cell_type": "markdown",
      "source": [
        "Обчислити значення матричного виразу\n",
        "\n",
        "    а. з використанням універсальних функцій бібліотеки NumPy.\n",
        "    b. за допомогою ітеративних конструкцій (з використанням\n",
        "    циклів, спискових включень тощо).\n",
        "    с. для обох випадків підрахувати час виконання скрипту та\n",
        "    зробити висновок.\n",
        "\n",
        "Порівняти всі рішення за допомогою функції numpy.allclose().\n",
        "$$2(A+B)(2B-A),$$ де \\begin{align} A = \\begin{pmatrix}\n",
        "2 & 3 & -1 \\\\\n",
        "4 & 5 & 2 \\\\\n",
        "-1 & 0 & 7 \\\\\n",
        "\\end{pmatrix},\n",
        "\\end{align}\n",
        "\\begin{align} B = \\begin{pmatrix}\n",
        "-1 & 0 & 5 \\\\\n",
        "0 & 1 & 3 \\\\\n",
        "2 & -2 & 4 \\\\\n",
        "\\end{pmatrix}.\n",
        "\\end{align}"
      ],
      "metadata": {
        "id": "tR2obGrRCSKW"
      }
    },
    {
      "cell_type": "code",
      "source": [
        "def add_matricies(A, B):\n",
        "    if (A.shape != B.shape):\n",
        "        return None\n",
        "    return np.array([[A[i,j] + B[i,j] for j in range(0, A.shape[1])] for i in range(0, A.shape[0])])"
      ],
      "metadata": {
        "id": "SY9oehO2JOLy"
      },
      "execution_count": 69,
      "outputs": []
    },
    {
      "cell_type": "code",
      "source": [
        "def mult_matrix_by_scalar(A, c):\n",
        "    return np.array([[A[i,j] * c for j in range(0, A.shape[1])] for i in range(0, A.shape[0])])"
      ],
      "metadata": {
        "id": "rZ5Q8Eb3KIxK"
      },
      "execution_count": 70,
      "outputs": []
    },
    {
      "cell_type": "code",
      "source": [
        "def mult_matricies(A, B):\n",
        "    if (A.shape[1] != B.shape[0]):\n",
        "        return None\n",
        "    ans = np.array([[0 for j in range(0, B.shape[1])] for i in range(0, A.shape[0])])\n",
        "    for i in range(0, A.shape[0]):\n",
        "        for j in range(0, B.shape[1]):\n",
        "            for k in range(0, A.shape[1]):\n",
        "                ans[i, j] += A[i, k] * B[k, j]\n",
        "    return ans"
      ],
      "metadata": {
        "id": "W9BzriuEKa-N"
      },
      "execution_count": 71,
      "outputs": []
    },
    {
      "cell_type": "code",
      "source": [
        "A = np.array([[2, 3, -1], [4, 5, 2], [-1, 0, 7]])\n",
        "B = np.array([[-1, 0, 5], [0, 1, 3], [2, -2, 4]])"
      ],
      "metadata": {
        "id": "jstp64CSEA11"
      },
      "execution_count": 72,
      "outputs": []
    },
    {
      "cell_type": "code",
      "source": [
        "numpy_ans = 2 * (A + B) @ (2*B - A)\n",
        "print(numpy_ans)"
      ],
      "metadata": {
        "colab": {
          "base_uri": "https://localhost:8080/"
        },
        "id": "Kg-JP-HnDvgK",
        "outputId": "7fd3834d-29c1-447d-8745-d6408781f137"
      },
      "execution_count": 73,
      "outputs": [
        {
          "output_type": "stream",
          "name": "stdout",
          "text": [
            "[[   8  -56   54]\n",
            " [ -30 -100  146]\n",
            " [ 118  -82   28]]\n"
          ]
        }
      ]
    },
    {
      "cell_type": "code",
      "source": [
        "loop_ans = mult_matrix_by_scalar(mult_matricies(add_matricies(A, B), add_matricies(mult_matrix_by_scalar(B, 2), mult_matrix_by_scalar(A, -1))), 2)\n",
        "print(loop_ans)"
      ],
      "metadata": {
        "colab": {
          "base_uri": "https://localhost:8080/"
        },
        "id": "cegn39JtMx4X",
        "outputId": "b2abfd6b-437c-4591-e860-7f8bccc3803b"
      },
      "execution_count": 74,
      "outputs": [
        {
          "output_type": "stream",
          "name": "stdout",
          "text": [
            "[[   8  -56   54]\n",
            " [ -30 -100  146]\n",
            " [ 118  -82   28]]\n"
          ]
        }
      ]
    },
    {
      "cell_type": "code",
      "source": [
        "np.allclose(numpy_ans, loop_ans)"
      ],
      "metadata": {
        "colab": {
          "base_uri": "https://localhost:8080/"
        },
        "id": "5-wvl9ILONS9",
        "outputId": "8f5efc1b-fbc4-4b9b-d631-2db9b82b781b"
      },
      "execution_count": 75,
      "outputs": [
        {
          "output_type": "execute_result",
          "data": {
            "text/plain": [
              "True"
            ]
          },
          "metadata": {},
          "execution_count": 75
        }
      ]
    },
    {
      "cell_type": "code",
      "source": [
        "%%timeit\n",
        "numpy_ans = 2 * (A + B) @ (2*B - A)"
      ],
      "metadata": {
        "colab": {
          "base_uri": "https://localhost:8080/"
        },
        "id": "lJKh70QtOXhy",
        "outputId": "f59c92d1-2a32-4f54-9d80-5d93446e3364"
      },
      "execution_count": 76,
      "outputs": [
        {
          "output_type": "stream",
          "name": "stdout",
          "text": [
            "7.87 µs ± 3.18 µs per loop (mean ± std. dev. of 7 runs, 100000 loops each)\n"
          ]
        }
      ]
    },
    {
      "cell_type": "code",
      "source": [
        "%%timeit\n",
        "loop_ans = mult_matrix_by_scalar(mult_matricies(add_matricies(A, B), add_matricies(mult_matrix_by_scalar(B, 2), mult_matrix_by_scalar(A, -1))), 2)"
      ],
      "metadata": {
        "colab": {
          "base_uri": "https://localhost:8080/"
        },
        "id": "J2_DAvfIOfxr",
        "outputId": "200bda48-3e77-48b1-9b8b-5e8f614e6a84"
      },
      "execution_count": 77,
      "outputs": [
        {
          "output_type": "stream",
          "name": "stdout",
          "text": [
            "60.2 µs ± 723 ns per loop (mean ± std. dev. of 7 runs, 10000 loops each)\n"
          ]
        }
      ]
    }
  ]
}