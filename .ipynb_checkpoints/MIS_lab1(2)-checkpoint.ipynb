{
  "cells": [
    {
      "cell_type": "markdown",
      "id": "7d40686a-2420-4069-8b90-a2e1fb1557f8",
      "metadata": {
        "id": "7d40686a-2420-4069-8b90-a2e1fb1557f8"
      },
      "source": []
    },
    {
      "cell_type": "markdown",
      "id": "0887c043-accd-4756-8eb9-1477c641adcc",
      "metadata": {
        "id": "0887c043-accd-4756-8eb9-1477c641adcc"
      },
      "source": [
        "# Греція"
      ]
    },
    {
      "cell_type": "markdown",
      "source": [
        "## Загілні відомості"
      ],
      "metadata": {
        "id": "ije5NFyqY1rN"
      },
      "id": "ije5NFyqY1rN"
    },
    {
      "cell_type": "markdown",
      "source": [
        "\n",
        "### Населення\n",
        "| Рік | Населення | Метод |\n",
        "|------|----|--|\n",
        "| 2017 | 10 768 477 | оцінка |\n",
        "| 2011 | 10 816 286 | перепис |\n",
        "\n",
        "### Інше\n",
        "|  |  |\n",
        "|------|----|\n",
        "| Валюта | Євро |\n",
        "| Площа | $$131 957 км^2$$ |\n",
        "| Офіційна мова | Грецька |\n",
        "| Столиця | Афіни |"
      ],
      "metadata": {
        "id": "GDai2eQHXeYl"
      },
      "id": "GDai2eQHXeYl"
    },
    {
      "cell_type": "markdown",
      "source": [
        "##Державний устрій"
      ],
      "metadata": {
        "id": "YACgeGWqfrqO"
      },
      "id": "YACgeGWqfrqO"
    },
    {
      "cell_type": "code",
      "source": [
        "%%HTML\n",
        "<svg xmlns=\"http://www.w3.org/2000/svg\" width=\"600\" height=\"400\" viewBox=\"0 0 27 18\">\n",
        "    <rect fill=\"#0D5EAF\" width=\"27\" height=\"18\"/>\n",
        "    <path fill=\"none\" stroke-width=\"2\" stroke=\"#FFF\" d=\"M5,0V11 M0,5H10 M10,3H27 M10,7H27 M0,11H27 M0,15H27\"/>\n",
        "</svg>"
      ],
      "metadata": {
        "colab": {
          "base_uri": "https://localhost:8080/",
          "height": 421
        },
        "id": "ojW4QKBP-VXv",
        "outputId": "d3f8a242-30c8-4671-f4c8-5dca0e538c4f"
      },
      "id": "ojW4QKBP-VXv",
      "execution_count": 2,
      "outputs": [
        {
          "output_type": "display_data",
          "data": {
            "text/plain": [
              "<IPython.core.display.HTML object>"
            ],
            "text/html": [
              "<svg xmlns=\"http://www.w3.org/2000/svg\" width=\"600\" height=\"400\" viewBox=\"0 0 27 18\">\n",
              "    <rect fill=\"#0D5EAF\" width=\"27\" height=\"18\"/>\n",
              "    <path fill=\"none\" stroke-width=\"2\" stroke=\"#FFF\" d=\"M5,0V11 M0,5H10 M10,3H27 M10,7H27 M0,11H27 M0,15H27\"/>\n",
              "</svg>\n"
            ]
          },
          "metadata": {}
        }
      ]
    },
    {
      "cell_type": "markdown",
      "source": [
        "# Завдання 5 (гіпотеза Гольдбаха)"
      ],
      "metadata": {
        "id": "ArmZESwKdMbV"
      },
      "id": "ArmZESwKdMbV"
    },
    {
      "cell_type": "code",
      "execution_count": null,
      "id": "f527983c-8a75-4860-8ccb-b65424bcf39f",
      "metadata": {
        "id": "f527983c-8a75-4860-8ccb-b65424bcf39f"
      },
      "outputs": [],
      "source": [
        "# O(n*log(log(n)))\n",
        "def SieveOfEratosthenes(n):\n",
        "    is_prime = [True for i in range(n+1)]\n",
        "    p = 2\n",
        "    while (p * p <= n):\n",
        "        if is_prime[p]:\n",
        "            # Mark all multiples of p starting from p^2 as not prime\n",
        "            for i in range(p * p, n+1, p):\n",
        "                is_prime[i] = False\n",
        "        p += 1\n",
        "    return is_prime"
      ]
    },
    {
      "cell_type": "code",
      "execution_count": null,
      "id": "7bf36a26-7ee9-4ed1-a9d8-d1162e8344cf",
      "metadata": {
        "id": "7bf36a26-7ee9-4ed1-a9d8-d1162e8344cf"
      },
      "outputs": [],
      "source": [
        "def goldbach_conjecture(number, is_prime):\n",
        "    for first_num in range(2, number):\n",
        "        second_num = number - first_num\n",
        "        if is_prime[first_num] and is_prime[second_num]:\n",
        "            return first_num, second_num\n",
        "    return None, None"
      ]
    },
    {
      "cell_type": "code",
      "source": [
        "def task_1_with_arg(userInput):\n",
        "    try:\n",
        "        number = int(userInput)\n",
        "        if not number > 0:\n",
        "            print('Помилка. Вхідне значення не є натуральним числом')\n",
        "            return\n",
        "        if not number % 2 == 0 or not number > 2:\n",
        "            print('Помилка. Вхідне значення не є парним числом більше 2')\n",
        "            return\n",
        "        # pre-compute primes less than number\n",
        "        is_prime = SieveOfEratosthenes(number)\n",
        "        first_num, second_num = goldbach_conjecture(number, is_prime)\n",
        "        if first_num is None or second_num is None:\n",
        "            print(f'Гіпотеза Гольдбаха не виконується для числа {number}')\n",
        "        else:\n",
        "            print(f'Число {number} можна представити як {first_num}+{second_num}')\n",
        "    except ValueError:\n",
        "        print('Помилка. Вхідне значення не є цілим числом')"
      ],
      "metadata": {
        "id": "oyXFBbGXb9Nk"
      },
      "id": "oyXFBbGXb9Nk",
      "execution_count": null,
      "outputs": []
    },
    {
      "cell_type": "code",
      "source": [
        "def task_1():\n",
        "    userInput = input()\n",
        "    task_1_with_arg(userInput)"
      ],
      "metadata": {
        "id": "47emvSd1XJub"
      },
      "id": "47emvSd1XJub",
      "execution_count": null,
      "outputs": []
    },
    {
      "cell_type": "markdown",
      "source": [
        "## Тести"
      ],
      "metadata": {
        "id": "GS2fY4uBc3tL"
      },
      "id": "GS2fY4uBc3tL"
    },
    {
      "cell_type": "code",
      "source": [
        "task_1_with_arg(6)"
      ],
      "metadata": {
        "colab": {
          "base_uri": "https://localhost:8080/"
        },
        "id": "zlFd2XY6c12-",
        "outputId": "79cabbca-c0bb-4a83-a837-c341d9da084e"
      },
      "id": "zlFd2XY6c12-",
      "execution_count": null,
      "outputs": [
        {
          "output_type": "stream",
          "name": "stdout",
          "text": [
            "Число 6 можна представити як 3+3\n"
          ]
        }
      ]
    },
    {
      "cell_type": "code",
      "source": [
        "task_1_with_arg(28)"
      ],
      "metadata": {
        "colab": {
          "base_uri": "https://localhost:8080/"
        },
        "id": "WCn39SNadYdA",
        "outputId": "5334c064-e3cd-486c-d2ed-c5100627aef9"
      },
      "id": "WCn39SNadYdA",
      "execution_count": null,
      "outputs": [
        {
          "output_type": "stream",
          "name": "stdout",
          "text": [
            "Число 28 можна представити як 5+23\n"
          ]
        }
      ]
    },
    {
      "cell_type": "code",
      "source": [
        "task_1_with_arg('text')"
      ],
      "metadata": {
        "colab": {
          "base_uri": "https://localhost:8080/"
        },
        "id": "bguSItTYdwnC",
        "outputId": "49e1f3fe-252c-44e3-c357-89f88e19fa5a"
      },
      "id": "bguSItTYdwnC",
      "execution_count": null,
      "outputs": [
        {
          "output_type": "stream",
          "name": "stdout",
          "text": [
            "Помилка. Вхідне значення не є цілим числом\n"
          ]
        }
      ]
    },
    {
      "cell_type": "code",
      "source": [
        "task_1_with_arg(-4)"
      ],
      "metadata": {
        "colab": {
          "base_uri": "https://localhost:8080/"
        },
        "id": "dtGJT1OZd19J",
        "outputId": "fc08bb74-3935-4cb9-acf3-464bb420aa41"
      },
      "id": "dtGJT1OZd19J",
      "execution_count": null,
      "outputs": [
        {
          "output_type": "stream",
          "name": "stdout",
          "text": [
            "Помилка. Вхідне значення не є натуральним числом\n"
          ]
        }
      ]
    },
    {
      "cell_type": "code",
      "source": [
        "task_1_with_arg(2)"
      ],
      "metadata": {
        "colab": {
          "base_uri": "https://localhost:8080/"
        },
        "id": "sNeZeKmLd6Rv",
        "outputId": "7b66cd81-3113-4448-8ecc-ae0f96c10c8a"
      },
      "id": "sNeZeKmLd6Rv",
      "execution_count": null,
      "outputs": [
        {
          "output_type": "stream",
          "name": "stdout",
          "text": [
            "Помилка. Вхідне значення не є парним числом більше 2\n"
          ]
        }
      ]
    },
    {
      "cell_type": "code",
      "source": [
        "task_1_with_arg(5)"
      ],
      "metadata": {
        "colab": {
          "base_uri": "https://localhost:8080/"
        },
        "id": "f_ggKtpDePuq",
        "outputId": "7e1bba03-8785-4469-b883-0b8cc88189d6"
      },
      "id": "f_ggKtpDePuq",
      "execution_count": null,
      "outputs": [
        {
          "output_type": "stream",
          "name": "stdout",
          "text": [
            "Помилка. Вхідне значення не є парним числом більше 2\n"
          ]
        }
      ]
    },
    {
      "cell_type": "markdown",
      "source": [
        "## Ввід"
      ],
      "metadata": {
        "id": "dYe3Rkpoc7kT"
      },
      "id": "dYe3Rkpoc7kT"
    },
    {
      "cell_type": "code",
      "source": [
        "task_1()"
      ],
      "metadata": {
        "colab": {
          "base_uri": "https://localhost:8080/"
        },
        "id": "bE9xWEweaP2E",
        "outputId": "cdaffb66-f315-4a9f-e8b7-2ddea4478d6e"
      },
      "id": "bE9xWEweaP2E",
      "execution_count": null,
      "outputs": [
        {
          "output_type": "stream",
          "name": "stdout",
          "text": [
            "128\n",
            "Число 128 можна представити як 19+109\n"
          ]
        }
      ]
    }
  ],
  "metadata": {
    "kernelspec": {
      "display_name": "Python 3 (ipykernel)",
      "language": "python",
      "name": "python3"
    },
    "language_info": {
      "codemirror_mode": {
        "name": "ipython",
        "version": 3
      },
      "file_extension": ".py",
      "mimetype": "text/x-python",
      "name": "python",
      "nbconvert_exporter": "python",
      "pygments_lexer": "ipython3",
      "version": "3.11.5"
    },
    "colab": {
      "provenance": []
    }
  },
  "nbformat": 4,
  "nbformat_minor": 5
}