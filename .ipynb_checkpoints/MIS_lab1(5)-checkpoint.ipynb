{
 "cells": [
  {
   "cell_type": "markdown",
   "id": "0887c043-accd-4756-8eb9-1477c641adcc",
   "metadata": {
    "id": "0887c043-accd-4756-8eb9-1477c641adcc"
   },
   "source": [
    "# Греція"
   ]
  },
  {
   "cell_type": "markdown",
   "id": "ije5NFyqY1rN",
   "metadata": {
    "id": "ije5NFyqY1rN"
   },
   "source": [
    "## Загілні відомості"
   ]
  },
  {
   "cell_type": "markdown",
   "id": "04C-6KzUhbSm",
   "metadata": {
    "id": "04C-6KzUhbSm"
   },
   "source": [
    "### Населення\n",
    "| Рік | Населення | Метод |\n",
    "|------|----|--|\n",
    "| 2017 | 10 768 477 | оцінка |\n",
    "| 2011 | 10 816 286 | перепис |"
   ]
  },
  {
   "cell_type": "markdown",
   "id": "GDai2eQHXeYl",
   "metadata": {
    "id": "GDai2eQHXeYl"
   },
   "source": [
    "### Інше\n",
    "|  |  |\n",
    "|------|----|\n",
    "| Валюта | Євро |\n",
    "| Площа | $$131 957 км^2$$ |\n",
    "| Офіційна мова | Грецька |\n",
    "| Столиця | Афіни |"
   ]
  },
  {
   "cell_type": "markdown",
   "id": "YACgeGWqfrqO",
   "metadata": {
    "id": "YACgeGWqfrqO"
   },
   "source": [
    "## Державний устрій"
   ]
  },
  {
   "cell_type": "markdown",
   "id": "j-J9VWJ-hkDi",
   "metadata": {
    "id": "j-J9VWJ-hkDi"
   },
   "source": [
    "<div style=\"border: 2px solid blue;\n",
    "     padding: 10px;\">\n",
    "    Греція – демократична правова держава з республіканською формою правління.\n",
    "    Вищий орган законодавчої влади – однопалатний парламент, що складається з 300 місць. Вибори в парламент проводяться 1 раз на 4 роки, є прямими і таємними. Виборче право отримують громадяни старше 18 років. Парламентська більшість отримує право сформувати уряд на чолі з прем’єр-міністром. Парламент обирає главу держави – президента, строком на 5 років. Виконавча влада здійснюється президентом і урядом. Повноваження президента обмежені, він не бере безпосередньої та активної участі в політиці. Уряд складається з кабінету, в який входять прем’єр-міністр, міністри та міністри без портфеля.\n",
    "</div>"
   ]
  },
  {
   "cell_type": "markdown",
   "id": "oaz0bx5jnEkY",
   "metadata": {
    "id": "oaz0bx5jnEkY"
   },
   "source": [
    "## Видатні персоналії"
   ]
  },
  {
   "cell_type": "markdown",
   "id": "XmYoqhwhrDlU",
   "metadata": {
    "id": "XmYoqhwhrDlU"
   },
   "source": [
    "* Політика\n",
    "    * [**Катерина Сакелларопулу**](https://uk.wikipedia.org/wiki/%D0%9A%D0%B0%D1%82%D0%B5%D1%80%D0%B8%D0%BD%D0%B0_%D0%A1%D0%B0%D0%BA%D0%B5%D0%BB%D0%BB%D0%B0%D1%80%D0%BE%D0%BF%D1%83%D0%BB%D1%83) - чинний президент Греції (з 2020 року)\n",
    "\n",
    "    ![image info](./pictures/President_Sakellaropoulou.jpg)\n",
    "\n",
    "    * [**Кіріакос Міцотакіс**](https://uk.wikipedia.org/wiki/%D0%9A%D1%96%D1%80%D1%96%D0%B0%D0%BA%D0%BE%D1%81_%D0%9C%D1%96%D1%86%D0%BE%D1%82%D0%B0%D0%BA%D1%96%D1%81) - чинний прем'єр-міністр Греції (з 2019 року), президент партії [«Нова демократія»](https://uk.wikipedia.org/wiki/%D0%9D%D0%BE%D0%B2%D0%B0_%D0%B4%D0%B5%D0%BC%D0%BE%D0%BA%D1%80%D0%B0%D1%82%D1%96%D1%8F_(%D0%93%D1%80%D0%B5%D1%86%D1%96%D1%8F))\n",
    "\n",
    "    <img src=\"https://upload.wikimedia.org/wikipedia/commons/thumb/8/8c/Kyriakos_Mitsotakis_-_EPP_Malta_Congress_2017.jpg/270px-Kyriakos_Mitsotakis_-_EPP_Malta_Congress_2017.jpg\">\n",
    "* Наука\n",
    "    * **Іоанніс Аргіріс** — математик і інженер, один з авторів методу скінченних елементів і методу прямої жорсткості.\n",
    "    * **Костянтин Каратеодорі** - математик працював в області дійсного аналізу, варіаційного числення і теорії мір на початку XX століття, його вчення допомогло Альберту Ейнштейну в математичній частині його теорії відносності.\n",
    "    * **Фотіс Кафатос** — біолог, піонер у галузі молекулярного клонування і геноміки.\n",
    "    * **Дімітріс Нанопулос** — відомий фізик-теоретик, зробив значний внесок у галузі фізики елементарних частинок і фізичної космології.\n",
    "    * **Георгіос Папаніколау** — піонер цитології та ранньої діагностики раку, винахідник [пап-тесту](https://uk.wikipedia.org/wiki/%D0%A2%D0%B5%D1%81%D1%82_%D0%9F%D0%B0%D0%BF%D0%B0%D0%BD%D1%96%D0%BA%D0%BE%D0%BB%D0%B0%D1%83).\n",
    "* Музика\n",
    "    * **Софія Вембо** - співачка та актриса, найбільш відома в добу італо-грецької війни виконанням патріотичних пісень, а згодом здобула народне визнання як «співачка Перемоги»\n",
    "    \n",
    "    <img src=\"https://upload.wikimedia.org/wikipedia/uk/f/f1/%D0%A1%D0%BE%D1%84%D1%96%D1%8F_%D0%92%D0%B5%D0%BC%D0%B1%D0%BE.jpg\">\n",
    "\n",
    "    * **Деміс Русос** - зірка грецької естради, роки музичної діяльності 1963–2014.\n",
    "\n",
    "    Найбільш відомі пісні:\n",
    "        * *Forever and Ever* (1973)\n",
    "        * *Happy То Be On An Island In The Sun* (1975)\n",
    "        * *When Forever Has Gone* (1977)\n",
    "\n",
    "    <img src=\"https://upload.wikimedia.org/wikipedia/commons/thumb/c/c3/Demis_Roussos_in_Kiev.png/300px-Demis_Roussos_in_Kiev.png\">\n"
   ]
  },
  {
   "cell_type": "markdown",
   "id": "LxIqw-HenJsa",
   "metadata": {
    "id": "LxIqw-HenJsa"
   },
   "source": [
    "## Пам’ятки <span style=\"color:red\">культури</span> та <span style=\"color:green\">природи</span>\n",
    "\n",
    "\n"
   ]
  },
  {
   "cell_type": "markdown",
   "id": "hHVt0Z2_78Pq",
   "metadata": {
    "id": "hHVt0Z2_78Pq"
   },
   "source": [
    "\n",
    "\n",
    "*   **Афінський акрополь** - центральна укріплена частина античних Афін, розташована на пагорбі висотою понад 150 метрів над рівнем моря. Тут зародилась не просто столиця Греції, а вся сучасна Західна цивілізація.\n",
    "\n",
    "<img src=\"http://mklub.com.ua/wp-content/uploads/2022/11/001-1.jpg\">\n",
    "\n",
    "*   **Парфенон** - головний храм Афінського акрополя, присвячений покровительці міста – богині Афіні. Парфенон з’явився в часи найбільшого розквіту античного полісу в V столітті до нашої ери.\n",
    "\n",
    "<img src=\"http://mklub.com.ua/wp-content/uploads/2022/11/002-9.jpg\">\n",
    "\n",
    "* **Храм Гефеста**. В північно-західній частині Афінської агори, на пагорбі Агорайос, можна побачити найкраще збережену серед усіх давньогрецьких культових споруд. Храм Гефеста присвячений богу вогню та ковальства.\n",
    "\n",
    "<img src=\"http://mklub.com.ua/wp-content/uploads/2022/11/017-6.jpg\">\n",
    "\n",
    "* **Храм Зевса Олімпійського**. Залишки найбільшого храму Стародавньої Греції, що за своїми розмірами перевершив легендарний Парфенон. Святилище оточували 104 колони заввишки 17 метрів, з яких до наших днів збереглися лише 15. Розтагований у Афінах.\n",
    "\n",
    "<img src=\"http://mklub.com.ua/wp-content/uploads/2022/11/018-4.jpg\">\n",
    "\n",
    "* **Гора Олімп** — найвище гірське пасмо грецьких Балкан в області Фессалія. З невеличкого міста Літохоро поблизу Салонік починається сходження на гору Олімп. Пік Олімпу майже завжди оточений туманом. У грецькій міфології гора Олімп вважалась священним місцем, де перебував Зевс та інші боги.\n",
    "\n",
    "<img src=\"https://encrypted-tbn1.gstatic.com/licensed-image?q=tbn:ANd9GcRXFSCjIiJCi4h6POrfQIsoO5D1ydhB9n6-wXgtI6_x8Baarcd-NbbXNhnyqxvDtg4tySvTweaTjre8YS3BbqJlvZoaWkcFQNvLT7S88g\">\n",
    "\n",
    "* **Навайо** - пляж на остріві Закінф. Навайо з грецької перекладається як «корабельна аварія». Таку назву найвідомішому пляжу Греції дала історія, що сталася з невеликим контрабандистським судном Панайотіс, залишки якого і досі спочивають на тлі ідилічного пейзажу острова Закінф. Особливу мальовничість Навайо надають вкриті соснами стрімкі білі вапнякові кручі висотою від 45 до 225 метрів, завдяки яким бухта надійно захищена від вітрів.\n",
    "\n",
    "<img src = \"http://mklub.com.ua/wp-content/uploads/2022/11/013-5.jpg\">"
   ]
  },
  {
   "cell_type": "markdown",
   "id": "1Pkndy_7BNwF",
   "metadata": {
    "id": "1Pkndy_7BNwF"
   },
   "source": [
    "## Прапор Греції"
   ]
  },
  {
   "cell_type": "code",
   "execution_count": 1,
   "id": "ojW4QKBP-VXv",
   "metadata": {
    "colab": {
     "base_uri": "https://localhost:8080/",
     "height": 421
    },
    "id": "ojW4QKBP-VXv",
    "outputId": "d3f8a242-30c8-4671-f4c8-5dca0e538c4f"
   },
   "outputs": [
    {
     "data": {
      "text/html": [
       "<svg xmlns=\"http://www.w3.org/2000/svg\" width=\"600\" height=\"400\" viewBox=\"0 0 27 18\">\n",
       "    <rect fill=\"#0D5EAF\" width=\"27\" height=\"18\"/>\n",
       "    <path fill=\"none\" stroke-width=\"2\" stroke=\"#FFF\" d=\"M5,0V11 M0,5H10 M10,3H27 M10,7H27 M0,11H27 M0,15H27\"/>\n",
       "</svg>\n"
      ],
      "text/plain": [
       "<IPython.core.display.HTML object>"
      ]
     },
     "metadata": {},
     "output_type": "display_data"
    }
   ],
   "source": [
    "%%HTML\n",
    "<svg xmlns=\"http://www.w3.org/2000/svg\" width=\"600\" height=\"400\" viewBox=\"0 0 27 18\">\n",
    "    <rect fill=\"#0D5EAF\" width=\"27\" height=\"18\"/>\n",
    "    <path fill=\"none\" stroke-width=\"2\" stroke=\"#FFF\" d=\"M5,0V11 M0,5H10 M10,3H27 M10,7H27 M0,11H27 M0,15H27\"/>\n",
    "</svg>"
   ]
  },
  {
   "cell_type": "markdown",
   "id": "ArmZESwKdMbV",
   "metadata": {
    "id": "ArmZESwKdMbV"
   },
   "source": [
    "# Завдання 5 (гіпотеза Гольдбаха)"
   ]
  },
  {
   "cell_type": "code",
   "execution_count": 2,
   "id": "f527983c-8a75-4860-8ccb-b65424bcf39f",
   "metadata": {
    "id": "f527983c-8a75-4860-8ccb-b65424bcf39f"
   },
   "outputs": [],
   "source": [
    "# O(n*log(log(n)))\n",
    "def SieveOfEratosthenes(n):\n",
    "    is_prime = [True for i in range(n+1)]\n",
    "    p = 2\n",
    "    while (p * p <= n):\n",
    "        if is_prime[p]:\n",
    "            # Mark all multiples of p starting from p^2 as not prime\n",
    "            for i in range(p * p, n+1, p):\n",
    "                is_prime[i] = False\n",
    "        p += 1\n",
    "    return is_prime"
   ]
  },
  {
   "cell_type": "code",
   "execution_count": 3,
   "id": "7bf36a26-7ee9-4ed1-a9d8-d1162e8344cf",
   "metadata": {
    "id": "7bf36a26-7ee9-4ed1-a9d8-d1162e8344cf"
   },
   "outputs": [],
   "source": [
    "def goldbach_conjecture(number, is_prime):\n",
    "    for first_num in range(2, number):\n",
    "        second_num = number - first_num\n",
    "        if is_prime[first_num] and is_prime[second_num]:\n",
    "            return first_num, second_num\n",
    "    return None, None"
   ]
  },
  {
   "cell_type": "code",
   "execution_count": 4,
   "id": "oyXFBbGXb9Nk",
   "metadata": {
    "id": "oyXFBbGXb9Nk"
   },
   "outputs": [],
   "source": [
    "def task_1_with_arg(userInput):\n",
    "    try:\n",
    "        number = int(userInput)\n",
    "        if not number > 0:\n",
    "            print('Помилка. Вхідне значення не є натуральним числом')\n",
    "            return\n",
    "        if not number % 2 == 0 or not number > 2:\n",
    "            print('Помилка. Вхідне значення не є парним числом більше 2')\n",
    "            return\n",
    "        # pre-compute primes less than number\n",
    "        is_prime = SieveOfEratosthenes(number)\n",
    "        first_num, second_num = goldbach_conjecture(number, is_prime)\n",
    "        if first_num is None or second_num is None:\n",
    "            print(f'Гіпотеза Гольдбаха не виконується для числа {number}')\n",
    "        else:\n",
    "            print(f'Число {number} можна представити як {first_num}+{second_num}')\n",
    "    except ValueError:\n",
    "        print('Помилка. Вхідне значення не є цілим числом')"
   ]
  },
  {
   "cell_type": "code",
   "execution_count": 5,
   "id": "47emvSd1XJub",
   "metadata": {
    "id": "47emvSd1XJub"
   },
   "outputs": [],
   "source": [
    "def task_1():\n",
    "    userInput = input()\n",
    "    task_1_with_arg(userInput)"
   ]
  },
  {
   "cell_type": "markdown",
   "id": "GS2fY4uBc3tL",
   "metadata": {
    "id": "GS2fY4uBc3tL"
   },
   "source": [
    "## Тести"
   ]
  },
  {
   "cell_type": "code",
   "execution_count": 6,
   "id": "zlFd2XY6c12-",
   "metadata": {
    "colab": {
     "base_uri": "https://localhost:8080/"
    },
    "id": "zlFd2XY6c12-",
    "outputId": "79cabbca-c0bb-4a83-a837-c341d9da084e"
   },
   "outputs": [
    {
     "name": "stdout",
     "output_type": "stream",
     "text": [
      "Число 6 можна представити як 3+3\n"
     ]
    }
   ],
   "source": [
    "task_1_with_arg(6)"
   ]
  },
  {
   "cell_type": "code",
   "execution_count": 7,
   "id": "WCn39SNadYdA",
   "metadata": {
    "colab": {
     "base_uri": "https://localhost:8080/"
    },
    "id": "WCn39SNadYdA",
    "outputId": "5334c064-e3cd-486c-d2ed-c5100627aef9"
   },
   "outputs": [
    {
     "name": "stdout",
     "output_type": "stream",
     "text": [
      "Число 28 можна представити як 5+23\n"
     ]
    }
   ],
   "source": [
    "task_1_with_arg(28)"
   ]
  },
  {
   "cell_type": "code",
   "execution_count": 8,
   "id": "bguSItTYdwnC",
   "metadata": {
    "colab": {
     "base_uri": "https://localhost:8080/"
    },
    "id": "bguSItTYdwnC",
    "outputId": "49e1f3fe-252c-44e3-c357-89f88e19fa5a"
   },
   "outputs": [
    {
     "name": "stdout",
     "output_type": "stream",
     "text": [
      "Помилка. Вхідне значення не є цілим числом\n"
     ]
    }
   ],
   "source": [
    "task_1_with_arg('text')"
   ]
  },
  {
   "cell_type": "code",
   "execution_count": 9,
   "id": "dtGJT1OZd19J",
   "metadata": {
    "colab": {
     "base_uri": "https://localhost:8080/"
    },
    "id": "dtGJT1OZd19J",
    "outputId": "fc08bb74-3935-4cb9-acf3-464bb420aa41"
   },
   "outputs": [
    {
     "name": "stdout",
     "output_type": "stream",
     "text": [
      "Помилка. Вхідне значення не є натуральним числом\n"
     ]
    }
   ],
   "source": [
    "task_1_with_arg(-4)"
   ]
  },
  {
   "cell_type": "code",
   "execution_count": 10,
   "id": "sNeZeKmLd6Rv",
   "metadata": {
    "colab": {
     "base_uri": "https://localhost:8080/"
    },
    "id": "sNeZeKmLd6Rv",
    "outputId": "7b66cd81-3113-4448-8ecc-ae0f96c10c8a"
   },
   "outputs": [
    {
     "name": "stdout",
     "output_type": "stream",
     "text": [
      "Помилка. Вхідне значення не є парним числом більше 2\n"
     ]
    }
   ],
   "source": [
    "task_1_with_arg(2)"
   ]
  },
  {
   "cell_type": "code",
   "execution_count": 11,
   "id": "f_ggKtpDePuq",
   "metadata": {
    "colab": {
     "base_uri": "https://localhost:8080/"
    },
    "id": "f_ggKtpDePuq",
    "outputId": "7e1bba03-8785-4469-b883-0b8cc88189d6"
   },
   "outputs": [
    {
     "name": "stdout",
     "output_type": "stream",
     "text": [
      "Помилка. Вхідне значення не є парним числом більше 2\n"
     ]
    }
   ],
   "source": [
    "task_1_with_arg(5)"
   ]
  },
  {
   "cell_type": "markdown",
   "id": "dYe3Rkpoc7kT",
   "metadata": {
    "id": "dYe3Rkpoc7kT"
   },
   "source": [
    "## Ввід"
   ]
  },
  {
   "cell_type": "code",
   "execution_count": 12,
   "id": "bE9xWEweaP2E",
   "metadata": {
    "colab": {
     "base_uri": "https://localhost:8080/"
    },
    "id": "bE9xWEweaP2E",
    "outputId": "cdaffb66-f315-4a9f-e8b7-2ddea4478d6e"
   },
   "outputs": [
    {
     "name": "stdin",
     "output_type": "stream",
     "text": [
      " 12\n"
     ]
    },
    {
     "name": "stdout",
     "output_type": "stream",
     "text": [
      "Число 12 можна представити як 5+7\n"
     ]
    }
   ],
   "source": [
    "task_1()"
   ]
  }
 ],
 "metadata": {
  "colab": {
   "provenance": []
  },
  "kernelspec": {
   "display_name": "Python 3 (ipykernel)",
   "language": "python",
   "name": "python3"
  },
  "language_info": {
   "codemirror_mode": {
    "name": "ipython",
    "version": 3
   },
   "file_extension": ".py",
   "mimetype": "text/x-python",
   "name": "python",
   "nbconvert_exporter": "python",
   "pygments_lexer": "ipython3",
   "version": "3.11.5"
  }
 },
 "nbformat": 4,
 "nbformat_minor": 5
}
